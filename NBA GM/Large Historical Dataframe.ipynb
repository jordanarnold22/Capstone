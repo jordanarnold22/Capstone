{
 "cells": [
  {
   "cell_type": "code",
   "execution_count": 106,
   "metadata": {},
   "outputs": [],
   "source": [
    "import pandas as pd\n",
    "import numpy as np\n",
    "from matplotlib import pyplot as plt\n",
    "\n",
    "pd.set_option('display.height', 1000)\n",
    "pd.set_option('display.max_rows', 5000)\n",
    "pd.set_option('display.max_columns', 500)"
   ]
  },
  {
   "cell_type": "markdown",
   "metadata": {},
   "source": [
    "# Adding Injury Data"
   ]
  },
  {
   "cell_type": "code",
   "execution_count": 116,
   "metadata": {},
   "outputs": [
    {
     "data": {
      "text/html": [
       "<div>\n",
       "<style scoped>\n",
       "    .dataframe tbody tr th:only-of-type {\n",
       "        vertical-align: middle;\n",
       "    }\n",
       "\n",
       "    .dataframe tbody tr th {\n",
       "        vertical-align: top;\n",
       "    }\n",
       "\n",
       "    .dataframe thead th {\n",
       "        text-align: right;\n",
       "    }\n",
       "</style>\n",
       "<table border=\"1\" class=\"dataframe\">\n",
       "  <thead>\n",
       "    <tr style=\"text-align: right;\">\n",
       "      <th></th>\n",
       "      <th>Date</th>\n",
       "      <th>Team</th>\n",
       "      <th>Acquired</th>\n",
       "      <th>Relinquised</th>\n",
       "      <th>Notes</th>\n",
       "    </tr>\n",
       "  </thead>\n",
       "  <tbody>\n",
       "    <tr>\n",
       "      <th>0</th>\n",
       "      <td>2010-10-03</td>\n",
       "      <td>Bulls</td>\n",
       "      <td>NaN</td>\n",
       "      <td>Carlos Boozer</td>\n",
       "      <td>fractured bone in right pinky finger (out inde...</td>\n",
       "    </tr>\n",
       "    <tr>\n",
       "      <th>1</th>\n",
       "      <td>2010-10-06</td>\n",
       "      <td>Pistons</td>\n",
       "      <td>NaN</td>\n",
       "      <td>Jonas Jerebko</td>\n",
       "      <td>torn right Acchilles tendon (out indefinitely)</td>\n",
       "    </tr>\n",
       "    <tr>\n",
       "      <th>2</th>\n",
       "      <td>2010-10-06</td>\n",
       "      <td>Pistons</td>\n",
       "      <td>NaN</td>\n",
       "      <td>Terrico White</td>\n",
       "      <td>broken fifth metatarsal in right foot (out ind...</td>\n",
       "    </tr>\n",
       "    <tr>\n",
       "      <th>3</th>\n",
       "      <td>2010-10-08</td>\n",
       "      <td>Blazers</td>\n",
       "      <td>NaN</td>\n",
       "      <td>Jeff Pendergraph / Jeff Ayres</td>\n",
       "      <td>torn ACL in right knee (out indefinitely)</td>\n",
       "    </tr>\n",
       "    <tr>\n",
       "      <th>4</th>\n",
       "      <td>2010-10-08</td>\n",
       "      <td>Nets</td>\n",
       "      <td>NaN</td>\n",
       "      <td>Troy Murphy</td>\n",
       "      <td>strained lower back (out indefinitely)</td>\n",
       "    </tr>\n",
       "  </tbody>\n",
       "</table>\n",
       "</div>"
      ],
      "text/plain": [
       "         Date     Team Acquired                    Relinquised  \\\n",
       "0  2010-10-03    Bulls      NaN                  Carlos Boozer   \n",
       "1  2010-10-06  Pistons      NaN                  Jonas Jerebko   \n",
       "2  2010-10-06  Pistons      NaN                  Terrico White   \n",
       "3  2010-10-08  Blazers      NaN  Jeff Pendergraph / Jeff Ayres   \n",
       "4  2010-10-08     Nets      NaN                    Troy Murphy   \n",
       "\n",
       "                                               Notes  \n",
       "0  fractured bone in right pinky finger (out inde...  \n",
       "1     torn right Acchilles tendon (out indefinitely)  \n",
       "2  broken fifth metatarsal in right foot (out ind...  \n",
       "3          torn ACL in right knee (out indefinitely)  \n",
       "4             strained lower back (out indefinitely)  "
      ]
     },
     "execution_count": 116,
     "metadata": {},
     "output_type": "execute_result"
    }
   ],
   "source": [
    "# Reading in the csv\n",
    "\n",
    "injuries = pd.read_csv('injuries.csv')\n",
    "injuries.head()"
   ]
  },
  {
   "cell_type": "code",
   "execution_count": 117,
   "metadata": {},
   "outputs": [
    {
     "data": {
      "text/plain": [
       "(9783, 5)"
      ]
     },
     "execution_count": 117,
     "metadata": {},
     "output_type": "execute_result"
    }
   ],
   "source": [
    "# Checking out the shape\n",
    "\n",
    "injuries.shape"
   ]
  },
  {
   "cell_type": "code",
   "execution_count": 118,
   "metadata": {},
   "outputs": [
    {
     "data": {
      "text/plain": [
       "1589"
      ]
     },
     "execution_count": 118,
     "metadata": {},
     "output_type": "execute_result"
    }
   ],
   "source": [
    "# Looking at the amount of null values\n",
    "\n",
    "injuries['Relinquised'].isnull().sum()"
   ]
  },
  {
   "cell_type": "code",
   "execution_count": 119,
   "metadata": {},
   "outputs": [],
   "source": [
    "# Creating a column for injuries that contain the word \"torn\"\n",
    "\n",
    "injuries['Tears'] = injuries['Notes'].str.contains('torn')"
   ]
  },
  {
   "cell_type": "code",
   "execution_count": 120,
   "metadata": {},
   "outputs": [
    {
     "data": {
      "text/html": [
       "<div>\n",
       "<style scoped>\n",
       "    .dataframe tbody tr th:only-of-type {\n",
       "        vertical-align: middle;\n",
       "    }\n",
       "\n",
       "    .dataframe tbody tr th {\n",
       "        vertical-align: top;\n",
       "    }\n",
       "\n",
       "    .dataframe thead th {\n",
       "        text-align: right;\n",
       "    }\n",
       "</style>\n",
       "<table border=\"1\" class=\"dataframe\">\n",
       "  <thead>\n",
       "    <tr style=\"text-align: right;\">\n",
       "      <th></th>\n",
       "      <th>Date</th>\n",
       "      <th>Team</th>\n",
       "      <th>Acquired</th>\n",
       "      <th>Relinquised</th>\n",
       "      <th>Notes</th>\n",
       "      <th>Tears</th>\n",
       "    </tr>\n",
       "  </thead>\n",
       "  <tbody>\n",
       "    <tr>\n",
       "      <th>0</th>\n",
       "      <td>2010-10-03</td>\n",
       "      <td>Bulls</td>\n",
       "      <td>NaN</td>\n",
       "      <td>Carlos Boozer</td>\n",
       "      <td>fractured bone in right pinky finger (out inde...</td>\n",
       "      <td>False</td>\n",
       "    </tr>\n",
       "    <tr>\n",
       "      <th>1</th>\n",
       "      <td>2010-10-06</td>\n",
       "      <td>Pistons</td>\n",
       "      <td>NaN</td>\n",
       "      <td>Jonas Jerebko</td>\n",
       "      <td>torn right Acchilles tendon (out indefinitely)</td>\n",
       "      <td>True</td>\n",
       "    </tr>\n",
       "    <tr>\n",
       "      <th>2</th>\n",
       "      <td>2010-10-06</td>\n",
       "      <td>Pistons</td>\n",
       "      <td>NaN</td>\n",
       "      <td>Terrico White</td>\n",
       "      <td>broken fifth metatarsal in right foot (out ind...</td>\n",
       "      <td>False</td>\n",
       "    </tr>\n",
       "    <tr>\n",
       "      <th>3</th>\n",
       "      <td>2010-10-08</td>\n",
       "      <td>Blazers</td>\n",
       "      <td>NaN</td>\n",
       "      <td>Jeff Pendergraph / Jeff Ayres</td>\n",
       "      <td>torn ACL in right knee (out indefinitely)</td>\n",
       "      <td>True</td>\n",
       "    </tr>\n",
       "    <tr>\n",
       "      <th>4</th>\n",
       "      <td>2010-10-08</td>\n",
       "      <td>Nets</td>\n",
       "      <td>NaN</td>\n",
       "      <td>Troy Murphy</td>\n",
       "      <td>strained lower back (out indefinitely)</td>\n",
       "      <td>False</td>\n",
       "    </tr>\n",
       "  </tbody>\n",
       "</table>\n",
       "</div>"
      ],
      "text/plain": [
       "         Date     Team Acquired                    Relinquised  \\\n",
       "0  2010-10-03    Bulls      NaN                  Carlos Boozer   \n",
       "1  2010-10-06  Pistons      NaN                  Jonas Jerebko   \n",
       "2  2010-10-06  Pistons      NaN                  Terrico White   \n",
       "3  2010-10-08  Blazers      NaN  Jeff Pendergraph / Jeff Ayres   \n",
       "4  2010-10-08     Nets      NaN                    Troy Murphy   \n",
       "\n",
       "                                               Notes  Tears  \n",
       "0  fractured bone in right pinky finger (out inde...  False  \n",
       "1     torn right Acchilles tendon (out indefinitely)   True  \n",
       "2  broken fifth metatarsal in right foot (out ind...  False  \n",
       "3          torn ACL in right knee (out indefinitely)   True  \n",
       "4             strained lower back (out indefinitely)  False  "
      ]
     },
     "execution_count": 120,
     "metadata": {},
     "output_type": "execute_result"
    }
   ],
   "source": [
    "injuries.head()"
   ]
  },
  {
   "cell_type": "code",
   "execution_count": 121,
   "metadata": {},
   "outputs": [],
   "source": [
    "# Creating separate dataframe for tears\n",
    "\n",
    "tears = injuries.loc[injuries['Tears'] == True]"
   ]
  },
  {
   "cell_type": "code",
   "execution_count": 122,
   "metadata": {},
   "outputs": [
    {
     "name": "stderr",
     "output_type": "stream",
     "text": [
      "/Users/jordanarnold22/anaconda3/lib/python3.6/site-packages/ipykernel_launcher.py:3: SettingWithCopyWarning: \n",
      "A value is trying to be set on a copy of a slice from a DataFrame\n",
      "\n",
      "See the caveats in the documentation: http://pandas.pydata.org/pandas-docs/stable/indexing.html#indexing-view-versus-copy\n",
      "  This is separate from the ipykernel package so we can avoid doing imports until\n"
     ]
    }
   ],
   "source": [
    "# Getting rid of unnecessary column/changing name of columns\n",
    "\n",
    "tears.drop('Acquired', axis=1, inplace = True)\n",
    "tears = tears.rename(columns={'Relinquised':'Name'})"
   ]
  },
  {
   "cell_type": "code",
   "execution_count": 123,
   "metadata": {},
   "outputs": [],
   "source": [
    "# Dropping duplicate columns. There were a lot of duplicates because players would be listed as injured once for\n",
    "# the injury, and again for their surgery. I broke the dataframe up into years because once a player tears something,\n",
    "# they are generally out for the season with that injury.\n",
    "\n",
    "tears2011 = tears[:28].drop_duplicates('Name')\n",
    "tears2012 = tears[28:94].drop_duplicates('Name')\n",
    "tears2013 = tears[94:149].drop_duplicates('Name')\n",
    "tears2014 = tears[149:313].drop_duplicates('Name')\n",
    "tears2015 = tears[313:343].drop_duplicates('Name')\n",
    "tears2016 = tears[343:372].drop_duplicates('Name')\n",
    "tears2017 = tears[372:406].drop_duplicates('Name')\n",
    "tears2018 = tears[406:].drop_duplicates('Name')\n",
    "\n",
    "# Added a year column\n",
    "\n",
    "tears2011['Year'] = 2011\n",
    "tears2012['Year'] = 2012\n",
    "tears2013['Year'] = 2013\n",
    "tears2014['Year'] = 2014\n",
    "tears2015['Year'] = 2015\n",
    "tears2016['Year'] = 2016\n",
    "tears2017['Year'] = 2017\n",
    "tears2018['Year'] = 2018"
   ]
  },
  {
   "cell_type": "code",
   "execution_count": 125,
   "metadata": {},
   "outputs": [],
   "source": [
    "# Concatenated the tear year dataframes into one dataframe. Also replaced null values with a 0. If the value was null,\n",
    "# that means that there was no injury.\n",
    "\n",
    "to_concat = (tears2011, tears2012, tears2013, tears2014, tears2015, tears2016, tears2017, tears2018)\n",
    "all_tears = pd.concat(to_concat)\n",
    "all_tears = all_tears.fillna(0)"
   ]
  },
  {
   "cell_type": "code",
   "execution_count": 126,
   "metadata": {},
   "outputs": [],
   "source": [
    "# Created specific columns for Achilles, ACL, and Meniscus tears\n",
    "\n",
    "all_tears['Achilles'] = all_tears['Notes'].str.contains('Achilles')\n",
    "all_tears['ACL'] = all_tears['Notes'].str.contains('ACL')\n",
    "all_tears['Meniscus'] = all_tears['Notes'].str.contains('meniscus')"
   ]
  },
  {
   "cell_type": "code",
   "execution_count": 19,
   "metadata": {},
   "outputs": [
    {
     "data": {
      "text/html": [
       "<div>\n",
       "<style scoped>\n",
       "    .dataframe tbody tr th:only-of-type {\n",
       "        vertical-align: middle;\n",
       "    }\n",
       "\n",
       "    .dataframe tbody tr th {\n",
       "        vertical-align: top;\n",
       "    }\n",
       "\n",
       "    .dataframe thead th {\n",
       "        text-align: right;\n",
       "    }\n",
       "</style>\n",
       "<table border=\"1\" class=\"dataframe\">\n",
       "  <thead>\n",
       "    <tr style=\"text-align: right;\">\n",
       "      <th></th>\n",
       "      <th>Date</th>\n",
       "      <th>Team</th>\n",
       "      <th>Name</th>\n",
       "      <th>Notes</th>\n",
       "      <th>Tears</th>\n",
       "      <th>Year</th>\n",
       "      <th>Achilles</th>\n",
       "      <th>ACL</th>\n",
       "      <th>Meniscus</th>\n",
       "    </tr>\n",
       "  </thead>\n",
       "  <tbody>\n",
       "    <tr>\n",
       "      <th>1</th>\n",
       "      <td>2010-10-06</td>\n",
       "      <td>Pistons</td>\n",
       "      <td>Jonas Jerebko</td>\n",
       "      <td>torn right Acchilles tendon (out indefinitely)</td>\n",
       "      <td>True</td>\n",
       "      <td>2011</td>\n",
       "      <td>False</td>\n",
       "      <td>False</td>\n",
       "      <td>False</td>\n",
       "    </tr>\n",
       "    <tr>\n",
       "      <th>3</th>\n",
       "      <td>2010-10-08</td>\n",
       "      <td>Blazers</td>\n",
       "      <td>Jeff Pendergraph / Jeff Ayres</td>\n",
       "      <td>torn ACL in right knee (out indefinitely)</td>\n",
       "      <td>True</td>\n",
       "      <td>2011</td>\n",
       "      <td>False</td>\n",
       "      <td>True</td>\n",
       "      <td>False</td>\n",
       "    </tr>\n",
       "    <tr>\n",
       "      <th>7</th>\n",
       "      <td>2010-10-09</td>\n",
       "      <td>Nuggets</td>\n",
       "      <td>Al Harrington</td>\n",
       "      <td>partially torn plantar fascia in left foot (ou...</td>\n",
       "      <td>True</td>\n",
       "      <td>2011</td>\n",
       "      <td>False</td>\n",
       "      <td>False</td>\n",
       "      <td>False</td>\n",
       "    </tr>\n",
       "    <tr>\n",
       "      <th>86</th>\n",
       "      <td>2010-11-23</td>\n",
       "      <td>Heat</td>\n",
       "      <td>Udonis Haslem</td>\n",
       "      <td>surgery on left foot to repair torn ligament (...</td>\n",
       "      <td>True</td>\n",
       "      <td>2011</td>\n",
       "      <td>False</td>\n",
       "      <td>False</td>\n",
       "      <td>False</td>\n",
       "    </tr>\n",
       "    <tr>\n",
       "      <th>161</th>\n",
       "      <td>2010-12-15</td>\n",
       "      <td>Bulls</td>\n",
       "      <td>Joakim Noah</td>\n",
       "      <td>torn ligament in right thumb (out indefinitely)</td>\n",
       "      <td>True</td>\n",
       "      <td>2011</td>\n",
       "      <td>False</td>\n",
       "      <td>False</td>\n",
       "      <td>False</td>\n",
       "    </tr>\n",
       "  </tbody>\n",
       "</table>\n",
       "</div>"
      ],
      "text/plain": [
       "           Date     Team                           Name  \\\n",
       "1    2010-10-06  Pistons                  Jonas Jerebko   \n",
       "3    2010-10-08  Blazers  Jeff Pendergraph / Jeff Ayres   \n",
       "7    2010-10-09  Nuggets                  Al Harrington   \n",
       "86   2010-11-23     Heat                  Udonis Haslem   \n",
       "161  2010-12-15    Bulls                    Joakim Noah   \n",
       "\n",
       "                                                 Notes  Tears  Year  Achilles  \\\n",
       "1       torn right Acchilles tendon (out indefinitely)   True  2011     False   \n",
       "3            torn ACL in right knee (out indefinitely)   True  2011     False   \n",
       "7    partially torn plantar fascia in left foot (ou...   True  2011     False   \n",
       "86   surgery on left foot to repair torn ligament (...   True  2011     False   \n",
       "161    torn ligament in right thumb (out indefinitely)   True  2011     False   \n",
       "\n",
       "       ACL  Meniscus  \n",
       "1    False     False  \n",
       "3     True     False  \n",
       "7    False     False  \n",
       "86   False     False  \n",
       "161  False     False  "
      ]
     },
     "execution_count": 19,
     "metadata": {},
     "output_type": "execute_result"
    }
   ],
   "source": [
    "all_tears.head()"
   ]
  },
  {
   "cell_type": "code",
   "execution_count": 127,
   "metadata": {},
   "outputs": [],
   "source": [
    "# There was a problem row that had the players name listed as '0'. The entry was for Russell Westbrook, but that injury\n",
    "# was already listed so I deleted the row\n",
    "\n",
    "all_tears = all_tears[all_tears.Name != 0]"
   ]
  },
  {
   "cell_type": "code",
   "execution_count": 128,
   "metadata": {},
   "outputs": [],
   "source": [
    "# Changing the tear counts from strings to floats\n",
    "\n",
    "all_tears['Tears'] = all_tears['Tears'].astype(float)\n",
    "all_tears['Achilles'] = all_tears['Achilles'].astype(float)\n",
    "all_tears['ACL'] = all_tears['ACL'].astype(float)\n",
    "all_tears['Meniscus'] = all_tears['Meniscus'].astype(float)"
   ]
  },
  {
   "cell_type": "code",
   "execution_count": 129,
   "metadata": {},
   "outputs": [],
   "source": [
    "# Created a column with the name and the year of each player to make joining with the main dataframe easier\n",
    "\n",
    "all_tears[\"Join Name With Year\"] = all_tears[\"Year\"].map(str) + ' ' + all_tears[\"Name\"]"
   ]
  },
  {
   "cell_type": "code",
   "execution_count": 130,
   "metadata": {},
   "outputs": [],
   "source": [
    "# Reset index because it was out of order. Also dropped the columns titled \"index\" as a result of this\n",
    "all_tears = all_tears.reset_index()\n",
    "all_tears.drop('index', axis=1, inplace=True)"
   ]
  },
  {
   "cell_type": "code",
   "execution_count": 131,
   "metadata": {},
   "outputs": [],
   "source": [
    "# Created more rows for each player in order to create cumulative sum columns\n",
    "\n",
    "years = []\n",
    "\n",
    "for i, row in all_tears.iterrows():\n",
    "    year = int(all_tears['Join Name With Year'][i][:4])\n",
    "    while year <= 2018:\n",
    "        if not all_tears['Join Name With Year'][i] in years:\n",
    "            new_row = [0, all_tears['Team'][i], all_tears['Name'][i], 'None', 0, year+1,\n",
    "                                    0, 0, 0, (str(year+1) + all_tears['Join Name With Year'][i][4:])]\n",
    "            if not new_row[-1] in all_tears.values:\n",
    "                all_tears.loc[len(all_tears)] = new_row\n",
    "                years.append((str(year+1) + all_tears['Join Name With Year'][i][4:]))\n",
    "        year = year + 1"
   ]
  },
  {
   "cell_type": "code",
   "execution_count": 132,
   "metadata": {},
   "outputs": [],
   "source": [
    "# Sorted the dataframe by name and year for cumulative sum purposes\n",
    "\n",
    "all_tears = all_tears.sort_values(['Name', 'Year'])"
   ]
  },
  {
   "cell_type": "code",
   "execution_count": 133,
   "metadata": {},
   "outputs": [],
   "source": [
    "# Created cumulative sum\n",
    "\n",
    "all_tears['Meniscus Sum'] = all_tears.groupby('Name')['Meniscus'].cumsum()\n",
    "all_tears['Achilles Sum'] = all_tears.groupby('Name')['Achilles'].cumsum()\n",
    "all_tears['ACL Sum'] = all_tears.groupby('Name')['ACL'].cumsum()\n",
    "all_tears['Tear Sum'] = all_tears.groupby('Name')['Tears'].cumsum()"
   ]
  },
  {
   "cell_type": "code",
   "execution_count": 135,
   "metadata": {},
   "outputs": [],
   "source": [
    "# Created a Meniscus/Achilles/ACL sum column\n",
    "\n",
    "all_tears['Meniscus/Achilles/ACL Sum'] = all_tears['Meniscus Sum'] + all_tears['Achilles Sum'] + all_tears['ACL Sum']"
   ]
  },
  {
   "cell_type": "code",
   "execution_count": 134,
   "metadata": {},
   "outputs": [],
   "source": [
    "# Set the index in preparation for join with main dataframe\n",
    "\n",
    "all_tears = all_tears.set_index('Join Name With Year')"
   ]
  },
  {
   "cell_type": "markdown",
   "metadata": {},
   "source": [
    "# Reading In Free Agent Data"
   ]
  },
  {
   "cell_type": "code",
   "execution_count": 136,
   "metadata": {},
   "outputs": [
    {
     "name": "stderr",
     "output_type": "stream",
     "text": [
      "/Users/jordanarnold22/anaconda3/lib/python3.6/site-packages/IPython/core/interactiveshell.py:2728: DtypeWarning: Columns (38,85,88,137,184,187,199,237,284,287,334,337,384,387,434,437,484,487,534,537,584,587,634,637,1291,1342,1393,1444,1495,1546,1597,1647) have mixed types. Specify dtype option on import or set low_memory=False.\n",
      "  interactivity=interactivity, compiler=compiler, result=result)\n"
     ]
    }
   ],
   "source": [
    "FA2008 = pd.read_csv('2008_Free_Agents.csv')\n",
    "FA2009 = pd.read_csv('2009_Free_Agents.csv')\n",
    "FA2010 = pd.read_csv('2010_Free_Agents.csv')\n",
    "FA2011 = pd.read_csv('2011_Free_Agents.csv')\n",
    "FA2012 = pd.read_csv('2012_Free_Agents.csv')\n",
    "FA2013 = pd.read_csv('2013_Free_Agents.csv')\n",
    "FA2014 = pd.read_csv('2014_Free_Agents.csv')\n",
    "FA2015 = pd.read_csv('2015_Free_Agents.csv')\n",
    "FA2016 = pd.read_csv('2016_Free_Agents.csv')\n",
    "FA2017 = pd.read_csv('2017_Free_Agents.csv')\n",
    "FA2018 = pd.read_csv('2018_Free_Agents.csv')\n",
    "stats = pd.read_csv('../all_historical_stats.csv')"
   ]
  },
  {
   "cell_type": "code",
   "execution_count": 137,
   "metadata": {},
   "outputs": [],
   "source": [
    "# Reseting index\n",
    "\n",
    "stats = stats.set_index('Name')\n",
    "stats.drop('Unnamed: 0', axis=1, inplace=True)"
   ]
  },
  {
   "cell_type": "code",
   "execution_count": 138,
   "metadata": {},
   "outputs": [],
   "source": [
    "# Making sure there are no duplicate rows\n",
    "\n",
    "stats = stats.drop_duplicates()"
   ]
  },
  {
   "cell_type": "code",
   "execution_count": 139,
   "metadata": {},
   "outputs": [],
   "source": [
    "# Creating dataframes for each year's free agents\n",
    "\n",
    "FA2018 = stats[(stats.index.isin(FA2018['Player']))]\n",
    "FA2017 = stats[(stats.index.isin(FA2017['Player']))]\n",
    "FA2016 = stats[(stats.index.isin(FA2016['Player']))]\n",
    "FA2015 = stats[(stats.index.isin(FA2015['Player']))]\n",
    "FA2014 = stats[(stats.index.isin(FA2014['Player']))]\n",
    "FA2013 = stats[(stats.index.isin(FA2013['Player']))]\n",
    "FA2012 = stats[(stats.index.isin(FA2012['Player']))]\n",
    "FA2011 = stats[(stats.index.isin(FA2011['Player']))]\n",
    "FA2010 = stats[(stats.index.isin(FA2010['Player']))]\n",
    "FA2009 = stats[(stats.index.isin(FA2009['July']))]\n",
    "FA2008 = stats[(stats.index.isin(FA2008['Player']))]"
   ]
  },
  {
   "cell_type": "code",
   "execution_count": 140,
   "metadata": {},
   "outputs": [],
   "source": [
    "# Setting index to year + player\n",
    "\n",
    "FA2018.index = '2018-19 ' + FA2018.index\n",
    "FA2017.index = '2017-18 ' + FA2017.index\n",
    "FA2016.index = '2016-17 ' + FA2016.index\n",
    "FA2015.index = '2015-16 ' + FA2015.index\n",
    "FA2014.index = '2014-15 ' + FA2014.index\n",
    "FA2013.index = '2013-14 ' + FA2013.index\n",
    "FA2012.index = '2012-13 ' + FA2012.index\n",
    "FA2011.index = '2011-12 ' + FA2011.index\n",
    "FA2010.index = '2010-11 ' + FA2010.index\n",
    "FA2009.index = '2009-10 ' + FA2009.index\n",
    "FA2008.index = '2008-09 ' + FA2008.index\n"
   ]
  },
  {
   "cell_type": "code",
   "execution_count": 141,
   "metadata": {},
   "outputs": [],
   "source": [
    "# Ensuring that the players that I'm looking at played last year...and were paid to do so\n",
    "\n",
    "FA2008 = FA2008[FA2008['2008-09 Salary'].notnull()]\n",
    "FA2009 = FA2009[FA2009['2009-10 Salary'].notnull()]\n",
    "FA2010 = FA2010[FA2010['2010-11 Salary'].notnull()]\n",
    "FA2011 = FA2011[FA2011['2011-12 Salary'].notnull()]\n",
    "FA2012 = FA2012[FA2012['2012-13 Salary'].notnull()]\n",
    "FA2013 = FA2013[FA2013['2013-14 Salary'].notnull()]\n",
    "FA2014 = FA2014[FA2014['2014-15 Salary'].notnull()]\n",
    "FA2015 = FA2015[FA2015['2015-16 Salary'].notnull()]\n",
    "FA2016 = FA2016[FA2016['2016-17 Salary'].notnull()]\n",
    "FA2017 = FA2017[FA2017['2017-18 Salary'].notnull()]"
   ]
  },
  {
   "cell_type": "code",
   "execution_count": 142,
   "metadata": {},
   "outputs": [],
   "source": [
    "# Double checking that the players that I'm looking at played last year...with a professional basketball team\n",
    "\n",
    "FA2008 = FA2008[FA2008['2007-08 Team'].notnull()]\n",
    "FA2009 = FA2009[FA2009['2008-09 Team'].notnull()]\n",
    "FA2010 = FA2010[FA2010['2009-10 Team'].notnull()]\n",
    "FA2011 = FA2011[FA2011['2010-11 Team'].notnull()]\n",
    "FA2012 = FA2012[FA2012['2011-12 Team'].notnull()]\n",
    "FA2013 = FA2013[FA2013['2012-13 Team'].notnull()]\n",
    "FA2014 = FA2014[FA2014['2013-14 Team'].notnull()]\n",
    "FA2015 = FA2015[FA2015['2014-15 Team'].notnull()]\n",
    "FA2016 = FA2016[FA2016['2015-16 Team'].notnull()]\n",
    "FA2017 = FA2017[FA2017['2016-17 Team'].notnull()]\n",
    "FA2018 = FA2018[FA2018['2017-18 Team'].notnull()]"
   ]
  },
  {
   "cell_type": "code",
   "execution_count": 143,
   "metadata": {},
   "outputs": [],
   "source": [
    "# Setting up lists of playoff teams, teams that made the Semifinals, teams that made the finals, and teams that were\n",
    "# in the bottom 3 teams of each conference for every year\n",
    "\n",
    "Playoff2018 = ['BOS', 'MIL', 'CLE', 'IND', 'PHI', 'MIA', 'TOR', 'WAS', 'HOU', 'MIN', 'SAS', 'GSW', 'OKC', 'POR', 'NOP', 'UTA']\n",
    "Semi2018 = ['GSW', 'CLE', 'BOS', 'HOU']\n",
    "Title2018 = ['GSW', 'CLE']\n",
    "Bottom2018 = ['PHO', 'MEM', 'DAL', 'ATL', 'ORL', 'CHI']\n",
    "Playoff2017 = ['BOS', 'CHI', 'CLE', 'IND', 'TOR', 'MIL', 'WAS', 'ATL', 'GSW', 'POR', 'HOU', 'OKC', 'UTA', 'LAC', 'SAS', 'MEM']\n",
    "Semi2017 = ['GSW', 'CLE', 'BOS', 'SAS']\n",
    "Title2017 = ['GSW', 'CLE']\n",
    "Bottom2017 = ['MIN', 'LAL', 'PHO', 'ORL', 'PHI', 'BKN']\n",
    "Playoff2016 = ['ATL', 'BOS', 'CLE', 'DET', 'MIA', 'CHO', 'TOR', 'IND', 'GSW', 'HOU', 'DAL', 'OKC', 'POR', 'LAC', 'SAS', 'MEM']\n",
    "Semi2016 = ['CLE', 'TOR', 'GSW', 'OKC']\n",
    "Title2016 = ['CLE', 'GSW']\n",
    "Bottom2016 = ['NYK', 'BKN', 'PHI', 'MIN', 'PHO', 'LAL']\n",
    "Playoff2015 = ['ATL', 'CHI', 'MIL', 'BRK', 'CLE', 'BOS', 'WAS', 'TOR', 'GSW', 'NOP', 'HOU', 'DAL', 'LAC', 'SAS', 'POR', 'LAC']\n",
    "Semi2015 = ['CLE', 'GSW', 'ATL', 'HOU']\n",
    "Title2015 = ['CLE', 'GSW']\n",
    "Bottom2015 = ['NYK', 'PHI', 'ORL', 'MIN', 'SAC', 'LAL']\n",
    "Playoff2014 = ['BRK', 'TOR', 'IND', 'ATL', 'MIA', 'CHA', 'WAS', 'CHI', 'GSW', 'LAC', 'OKC', 'MEM', 'POR', 'HOU', 'SAS', 'DAL']\n",
    "Semi2014 = ['SAS', 'MIA', 'OKC', 'IND']\n",
    "Title2014 = ['CLE', 'SAS']\n",
    "Bottom2014 = ['MIL', 'PHI', 'ORL', 'UTA', 'SAC', 'LAL']\n",
    "Playoff2013 = ['CHI', 'BRK', 'IND', 'ATL', 'MIA', 'MIL', 'NYK', 'BOS', 'GSW', 'DEN', 'MEM', 'LAC', 'OKC', 'HOU', 'SAS', 'LAL']\n",
    "Semi2013 = ['MIA', 'IND', 'SAS', 'MEM']\n",
    "Title2013 = ['MIA', 'SAS']\n",
    "Bottom2013 = ['CHA', 'CLE', 'ORL', 'SAC', 'PHO', 'NOH']\n",
    "Playoff2012 = ['BOS', 'IND', 'ATL', 'ORL', 'MIA', 'NYK', 'PHI', 'CHI', 'LAC', 'LAL', 'MEM', 'DEN', 'OKC', 'SAS', 'DAL', 'UTA']\n",
    "Semi2012 = ['MIA', 'OKC', 'BOS', 'SAS']\n",
    "Title2012 = ['MIA', 'OKC']\n",
    "Bottom2012 = ['CHA', 'WAS', 'CLE', 'NOH', 'GSW', 'SAC']\n",
    "Playoff2011 = ['ATL', 'ORL', 'BOS', 'NYK', 'CHI', 'IND', 'PHI', 'MIA', 'DAL', 'POR', 'LAL', 'MEM', 'SAS', 'OKC', 'DEN', 'NOH']\n",
    "Semi2011 = ['MIA', 'CHI', 'DAL', 'OKC']\n",
    "Title2011 = ['MIA', 'DAL']\n",
    "Bottom2011 = ['CLE', 'TOR', 'WAS', 'MIN', 'SAC', 'LAC']\n",
    "Playoff2010 = ['ATL', 'MIL', 'BOS', 'MIA', 'CLE', 'CHI', 'ORL', 'CHA', 'LAL', 'OKC', 'POR', 'SAS', 'DAL', 'DEN', 'UTA', 'PHO']\n",
    "Semi2010 = ['BOS', 'LAL', 'PHO', 'ORL']\n",
    "Title2010 = ['BOS', 'LAL']\n",
    "Bottom2010 = ['NJN', 'DET', 'PHI', 'WAS']\n",
    "Playoff2009 = ['ATL', 'BOS', 'MIA', 'CHI', 'CLE', 'DET', 'ORL', 'PHI', 'DAL', 'SAS', 'NOH', 'DEN', 'HOU', 'POR', 'LAL', 'UTA']\n",
    "Semi2009 = ['ORL', 'LAL', 'CLE', 'DEN']\n",
    "Title2009 = ['ORL', 'LAL']\n",
    "Bottom2009 = ['WAS', 'NYK', 'TOR', 'LAC', 'SAC', 'OKC']\n",
    "Playoff2008 = ['BOS', 'ATL', 'CLE', 'WAS', 'DET', 'PHI', 'ORL', 'TOR', 'LAL', 'DEN', 'NOH', 'DAL', 'SAS', 'PHO', 'UTA', 'HOU']\n",
    "Semi2008 = ['LAL', 'BOS', 'DET', 'SAS']\n",
    "Title2008 = ['LAL', 'BOS']\n",
    "Bottom2008 = ['MIA', 'MIL', 'NYK', 'MIN', 'MEM', 'SEA']\n",
    "\n",
    "\n"
   ]
  },
  {
   "cell_type": "markdown",
   "metadata": {},
   "source": [
    "# Creating Historical Dataframes For Each Year Of Free Agency"
   ]
  },
  {
   "cell_type": "code",
   "execution_count": 144,
   "metadata": {},
   "outputs": [],
   "source": [
    "# Creating function to feed previous year data to each free agent dataframe\n",
    "\n",
    "def create_df(hist, FA_year, stat_year, stat_2_years_ago, target_salary_year, salary_cap, luxury_tax, playoff, semi, title, bottom):\n",
    "\n",
    "    hist['Previous Year Games Played'] = FA_year[stat_year + ' Games Played'].values\n",
    "    hist['Previous Year Games Started'] = FA_year[stat_year + ' Games Started'].values\n",
    "    hist['Previous Year Minutes Per Game'] = FA_year[stat_year + ' Minutes Per Game'].values\n",
    "    hist['Previous Year Field Goals Per Game'] = FA_year[stat_year + ' Field Goals Per Game'].values\n",
    "    hist['Previous Year Field Goal Attempts Per Game'] = FA_year[stat_year + ' Field Goal Attempts Per Game'].values\n",
    "    hist['Previous Year Field Goal Percentage'] = FA_year[stat_year + ' Field Goal Percentage'].values\n",
    "    hist['Previous Year 3 Point Field Goals Per Game'] = FA_year[stat_year + ' 3 Point Field Goals Per Game'].values\n",
    "    hist['Previous Year 3 Point Field Goal Attempts Per Game'] = FA_year[stat_year + ' 3 Point Field Goal Attempts Per Game'].values\n",
    "    hist['Previous Year 3 Point Field Goal Percentage'] = FA_year[stat_year + ' 3 Point Field Goal Percentage'].values\n",
    "    hist['Previous Year 2 Point Field Goals Per Game'] = FA_year[stat_year + ' 3 Point Field Goals Per Game'].values\n",
    "    hist['Previous Year 2 Point Field Goal Attempts Per Game'] = FA_year[stat_year + ' 3 Point Field Goal Attempts Per Game'].values\n",
    "    hist['Previous Year 2 Point Field Goal Percentage'] = FA_year[stat_year + ' 3 Point Field Goal Percentage'].values\n",
    "    hist['Previous Year Effective Field Goal Percentage'] = FA_year[stat_year + ' Effective Field Goal Percentage'].values\n",
    "    hist['Previous Year Free Throw Makes Per Game'] = FA_year[stat_year + ' Free Throw Makes Per Game'].values\n",
    "    hist['Previous Year Free Throw Attempts Per Game'] = FA_year[stat_year + ' Free Throw Attempts Per Game'].values\n",
    "    hist['Previous Year Free Throw Percentage'] = FA_year[stat_year + ' Free Throw Percentage'].values\n",
    "    hist['Previous Year Offensive Rebounds Per Game'] = FA_year[stat_year + ' Offensive Rebounds Per Game'].values\n",
    "    hist['Previous Year Defensive Rebounds Per Game'] = FA_year[stat_year + ' Defensive Rebounds Per Game'].values\n",
    "    hist['Previous Year Total Rebounds Per Game'] = FA_year[stat_year + ' Total Rebounds Per Game'].values\n",
    "    hist['Previous Year Assists Per Game'] = FA_year[stat_year + ' Assists Per Game'].values\n",
    "    hist['Previous Year Steals Per Game'] = FA_year[stat_year + ' Steals Per Game'].values\n",
    "    hist['Previous Year Blocks Per Game'] = FA_year[stat_year + ' Blocks Per Game'].values\n",
    "    hist['Previous Year Turnovers Per Game'] = FA_year[stat_year + ' Turnovers Per Game'].values\n",
    "    hist['Previous Year Personal Fouls Per Game'] = FA_year[stat_year + ' Personal Fouls Per Game'].values\n",
    "    hist['Previous Year Points Per Game'] = FA_year[stat_year + ' Points Per Game'].values\n",
    "    hist['Previous Year Team'] = FA_year[stat_year + ' Team'].values\n",
    "    playoff_teams = []\n",
    "    for i in hist['Previous Year Team']:\n",
    "        playoff_teams.append(int(i in eval('Playoff' + playoff)))\n",
    "    hist['Previous Year Playoff Team'] = playoff_teams\n",
    "    semifinal_teams = []\n",
    "    for i in hist['Previous Year Team']:\n",
    "        semifinal_teams.append(int(i in eval('Semi' + semi)))\n",
    "    hist['Previous Year Semifinal Team'] = semifinal_teams\n",
    "    final_teams = []\n",
    "    for i in hist['Previous Year Team']:\n",
    "        final_teams.append(int(i in eval('Title' + title)))\n",
    "    hist['Previous Year Final Team'] = final_teams\n",
    "    bottom_6_teams = []\n",
    "    for i in hist['Previous Year Team']:\n",
    "        bottom_6_teams.append(int(i in eval('Bottom' + bottom)))\n",
    "    hist['Previous Year Bottom 6 Team'] = bottom_6_teams\n",
    "    \n",
    "    hist['Previous Year Total Minutes Played'] = FA_year[stat_year + ' Total Minutes Played'].values\n",
    "    hist['Previous Year Player Efficiency Rating'] = FA_year[stat_year + ' Player Efficiency Rating'].values\n",
    "    hist['Previous Year True Shooting Percentage'] = FA_year[stat_year + ' True Shooting Percentage'].values\n",
    "    hist['Previous Year 3 Point Attempt Rate'] = FA_year[stat_year + ' 3 Point Attempt Rate'].values\n",
    "    hist['Previous Year Free Throw Attempt Rate'] = FA_year[stat_year + ' Free Throw Attempt Rate'].values\n",
    "    hist['Previous Year Offensive Rebound Percentage'] = FA_year[stat_year + ' Offensive Rebound Percentage'].values\n",
    "    hist['Previous Year Defensive Rebound Percentage'] = FA_year[stat_year + ' Defensive Rebound Percentage'].values\n",
    "    hist['Previous Year Total Rebound Percentage'] = FA_year[stat_year + ' Total Rebound Percentage'].values\n",
    "    hist['Previous Year Assist Percentage'] = FA_year[stat_year + ' Assist Percentage'].values\n",
    "    hist['Previous Year Steal Percentage'] = FA_year[stat_year + ' Steal Percentage'].values\n",
    "    hist['Previous Year Block Percentage'] = FA_year[stat_year + ' Block Percentage'].values\n",
    "    hist['Previous Year Turnover Percentage'] = FA_year[stat_year + ' Turnover Percentage'].values\n",
    "    hist['Previous Year Usage Percentage'] = FA_year[stat_year + ' Usage Percentage'].values\n",
    "    hist['Previous Year Offensive Win Shares'] = FA_year[stat_year + ' Offensive Win Shares'].values\n",
    "    hist['Previous Year Defensive Win Shares'] = FA_year[stat_year + ' Defensive Win Shares'].values\n",
    "    hist['Previous Year Win Shares'] = FA_year[stat_year + ' Win Shares'].values\n",
    "    hist['Previous Year Win Shares Per 48 Minutes'] = FA_year[stat_year + ' Win Shares Per 48 Minutes'].values\n",
    "    hist['Previous Year Offensive Box Plus/Minus'] = FA_year[stat_year + ' Offensive Box Plus/Minus'].values\n",
    "    hist['Previous Year Defensive Box Plus/Minus'] = FA_year[stat_year + ' Defensive Box Plus/Minus'].values\n",
    "    hist['Previous Year Box Plus/Minus'] = FA_year[stat_year + ' Box Plus/Minus'].values\n",
    "    hist['Previous Year Value Over Replacement Player'] = FA_year[stat_year + ' Value Over Replacement Player'].values\n",
    "    hist['Previous Year Salary'] = FA_year[stat_year + ' Salary'].values\n",
    "\n",
    "\n",
    "    hist['Age'] = FA_year[stat_year + ' Age'].values\n",
    "    hist['Years In League'] = FA_year[stat_year + ' Years In League'].values\n",
    "    hist['Salary Cap'] = salary_cap\n",
    "    hist['Luxury Tax Line'] = luxury_tax\n",
    "    hist['Position'] = FA_year['Position'].values\n",
    "    hist['Previous Year Team With Year'] = stat_year + ' ' + FA_year[stat_year + ' Team'].values\n",
    "    hist['Previous Year Total Team Payroll'] = FA_year[stat_year + ' Total Team Payroll'].values\n",
    "    sums = hist.groupby('Previous Year Team With Year')['Previous Year Salary'].sum()\n",
    "    sum_list = []\n",
    "    for i in hist['Previous Year Team With Year'].values:\n",
    "        for j in sums.keys():\n",
    "            if i == j:\n",
    "                sum_list.append(sums[j])\n",
    "                \n",
    "    hist['Salary Sums'] = sum_list\n",
    "    hist['Team Cap Space'] = hist['Previous Year Total Team Payroll'] - hist['Salary Sums']\n",
    "\n",
    "    hist['Total NBA Cap Space'] = hist['Team Cap Space'].sum()\n",
    "\n",
    "    hist['Target Salary'] = FA_year[target_salary_year + ' Salary'].values\n",
    "\n",
    "    hist['Target Salary Percentage Cap'] = hist['Target Salary'] / hist['Salary Cap']\n",
    "    hist['Target Salary Percentage Luxury'] = hist['Target Salary'] / hist['Luxury Tax Line']"
   ]
  },
  {
   "cell_type": "markdown",
   "metadata": {},
   "source": [
    "2018 Available Space: 397162373"
   ]
  },
  {
   "cell_type": "code",
   "execution_count": 145,
   "metadata": {},
   "outputs": [],
   "source": [
    "# Creating historical dataframes for each year of free agents\n",
    "\n",
    "hist1 = pd.DataFrame(FA2017.index)\n",
    "hist2 = pd.DataFrame(FA2016.index)\n",
    "hist3 = pd.DataFrame(FA2015.index)\n",
    "hist4 = pd.DataFrame(FA2014.index)\n",
    "hist5 = pd.DataFrame(FA2013.index)\n",
    "hist6 = pd.DataFrame(FA2012.index)\n",
    "hist7 = pd.DataFrame(FA2011.index)\n",
    "hist8 = pd.DataFrame(FA2010.index)\n",
    "hist9 = pd.DataFrame(FA2009.index)\n",
    "hist10 = pd.DataFrame(FA2008.index)\n",
    "\n",
    "target_hist = pd.DataFrame(FA2018.index)"
   ]
  },
  {
   "cell_type": "code",
   "execution_count": 146,
   "metadata": {},
   "outputs": [],
   "source": [
    "# Running each year of free agents through the above function\n",
    "\n",
    "create_df(hist1, FA2017, '2016-17', '2015-16', '2017-18', 99093000, 119266000, '2017', '2017', '2017', '2017') \n",
    "create_df(hist2, FA2016, '2015-16', '2014-15', '2016-17', 94143000, 113287000, '2016', '2016', '2016', '2016') \n",
    "create_df(hist3, FA2015, '2014-15', '2013-14', '2015-16', 70000000, 84740000, '2015', '2015', '2015', '2015') \n",
    "create_df(hist4, FA2014, '2013-14', '2012-13', '2014-15', 63065000, 76829000, '2014', '2014', '2014', '2014') \n",
    "create_df(hist5, FA2013, '2012-13', '2011-12', '2013-14', 58679000, 71748000, '2013', '2013', '2013', '2013') \n",
    "create_df(hist6, FA2012, '2011-12', '2010-11', '2012-13', 58044000, 70307000, '2012', '2012', '2012', '2012') \n",
    "create_df(hist7, FA2011, '2010-11', '2009-10', '2011-12', 58044000, 70307000, '2011', '2011', '2011', '2011') \n",
    "create_df(hist8, FA2010, '2009-10', '2008-09', '2010-11', 58044000, 70307000, '2010', '2010', '2010', '2010') \n",
    "create_df(hist9, FA2009, '2008-09', '2007-08', '2009-10', 57700000, 69920000, '2009', '2009', '2009', '2009') \n",
    "\n",
    "create_df(target_hist, FA2018, '2017-18', '2016-17', '2018-19', 101869000, 123733000, '2018', '2018', '2018', '2018')"
   ]
  },
  {
   "cell_type": "markdown",
   "metadata": {},
   "source": [
    "# Functions To Calculate Minimum and Maximum Salaries"
   ]
  },
  {
   "cell_type": "code",
   "execution_count": 147,
   "metadata": {},
   "outputs": [],
   "source": [
    "# Setting up a function that calculates the minimum salary that a player can receive based on what year it is and how\n",
    "# long the player has been in the league\n",
    "\n",
    "def minimum(years, target_salary_year):\n",
    "    if target_salary_year == '2018-19':\n",
    "        if years == 1.0:\n",
    "            return 838464\n",
    "        elif years == 2.0:\n",
    "            return 1349383\n",
    "        elif years == 3.0:\n",
    "            return 1512601\n",
    "        elif years == 4.0:\n",
    "            return 1567007\n",
    "        elif years == 5.0:\n",
    "            return 1621415\n",
    "        elif years == 6.0:\n",
    "            return 1757429\n",
    "        elif years == 7.0:\n",
    "            return 1893447\n",
    "        elif years == 8.0:\n",
    "            return 2029463\n",
    "        elif years == 9.0:\n",
    "            return 2165481\n",
    "        elif years == 10.0:\n",
    "            return 2176260\n",
    "        else:\n",
    "            return 2393887\n",
    "    elif target_salary_year == '2017-18':\n",
    "        if years == 1.0:\n",
    "            return 815615\n",
    "        elif years == 2.0:\n",
    "            return 1312611\n",
    "        elif years == 3.0:\n",
    "            return 1471382\n",
    "        elif years == 4.0:\n",
    "            return 1524305\n",
    "        elif years == 5.0:\n",
    "            return 1577230\n",
    "        elif years == 6.0:\n",
    "            return 1709538\n",
    "        elif years == 7.0:\n",
    "            return 1841849\n",
    "        elif years == 8.0:\n",
    "            return 1974159\n",
    "        elif years == 9.0:\n",
    "            return 2106470\n",
    "        elif years == 10.0:\n",
    "            return 2116955\n",
    "        elif years >= 11.0:\n",
    "            return 2328652\n",
    "        else:\n",
    "            return 0\n",
    "    elif target_salary_year == '2016-17':\n",
    "        if years == 1.0:\n",
    "            return 543471\n",
    "        elif years == 2.0:\n",
    "            return 874636\n",
    "        elif years == 3.0:\n",
    "            return 980431\n",
    "        elif years == 4.0:\n",
    "            return 1015696\n",
    "        elif years == 5.0:\n",
    "            return 1050961\n",
    "        elif years == 6.0:\n",
    "            return 1139123\n",
    "        elif years == 7.0:\n",
    "            return 1227286\n",
    "        elif years == 8.0:\n",
    "            return 1315448\n",
    "        elif years == 9.0:\n",
    "            return 1403611\n",
    "        elif years == 10.0:\n",
    "            return 1410598\n",
    "        elif years >= 11.0:\n",
    "            return 1551659\n",
    "        else:\n",
    "            return 0\n",
    "    elif target_salary_year == '2015-16':\n",
    "        if years == 1.0:\n",
    "            return 525093\n",
    "        elif years == 2.0:\n",
    "            return 845059\n",
    "        elif years == 3.0:\n",
    "            return 947276\n",
    "        elif years == 4.0:\n",
    "            return 981348\n",
    "        elif years == 5.0:\n",
    "            return 1015421\n",
    "        elif years == 6.0:\n",
    "            return 1100602\n",
    "        elif years == 7.0:\n",
    "            return 1185784\n",
    "        elif years == 8.0:\n",
    "            return 1270964\n",
    "        elif years == 9.0:\n",
    "            return 1356146\n",
    "        elif years == 10.0:\n",
    "            return 1362897\n",
    "        elif years >= 11.0:\n",
    "            return 1499187\n",
    "        else:\n",
    "            return 0\n",
    "    elif target_salary_year == '2014-15':\n",
    "        if years == 1.0:\n",
    "            return 507336\n",
    "        elif years == 2.0:\n",
    "            return 816482\n",
    "        elif years == 3.0:\n",
    "            return 915243\n",
    "        elif years == 4.0:\n",
    "            return 948163\n",
    "        elif years == 5.0:\n",
    "            return 981084\n",
    "        elif years == 6.0:\n",
    "            return 1063384\n",
    "        elif years == 7.0:\n",
    "            return 1145685\n",
    "        elif years == 8.0:\n",
    "            return 1227985\n",
    "        elif years == 9.0:\n",
    "            return 1310286\n",
    "        elif years == 10.0:\n",
    "            return 1316809\n",
    "        elif years >= 11.0:\n",
    "            return 1448490\n",
    "        else:\n",
    "            return 0\n",
    "    elif target_salary_year == '2013-14':\n",
    "        if years == 1.0:\n",
    "            return 490180   \n",
    "        elif years == 2.0:\n",
    "            return 788872\n",
    "        elif years == 3.0:\n",
    "            return 884293\n",
    "        elif years == 4.0:\n",
    "            return 916099\n",
    "        elif years == 5.0:\n",
    "            return 947907\n",
    "        elif years == 6.0:\n",
    "            return 1027424\n",
    "        elif years == 7.0:\n",
    "            return 1106942\n",
    "        elif years == 8.0:\n",
    "            return 1186459\n",
    "        elif years == 9.0:\n",
    "            return 1265977\n",
    "        elif years == 10.0:\n",
    "            return 1272279\n",
    "        elif years >= 11.0:\n",
    "            return 1399507\n",
    "        else:\n",
    "            return 0\n",
    "    elif target_salary_year == '2012-13':\n",
    "        if years == 1.0:\n",
    "            return 473604   \n",
    "        elif years == 2.0:\n",
    "            return 762195\n",
    "        elif years == 3.0:\n",
    "            return 854389\n",
    "        elif years == 4.0:\n",
    "            return 885120\n",
    "        elif years == 5.0:\n",
    "            return 915852\n",
    "        elif years == 6.0:\n",
    "            return 992680\n",
    "        elif years == 7.0:\n",
    "            return 1069509\n",
    "        elif years == 8.0:\n",
    "            return 1146337\n",
    "        elif years == 9.0:\n",
    "            return 1223166\n",
    "        elif years == 10.0:\n",
    "            return 1229255\n",
    "        elif years >= 11.0:\n",
    "            return 1352181\n",
    "        else:\n",
    "            return 0\n",
    "    elif target_salary_year == '2011-12':\n",
    "        if years == 1.0:\n",
    "            return 473604   \n",
    "        elif years == 2.0:\n",
    "            return 762195\n",
    "        elif years == 3.0:\n",
    "            return 854389\n",
    "        elif years == 4.0:\n",
    "            return 885120\n",
    "        elif years == 5.0:\n",
    "            return 915852\n",
    "        elif years == 6.0:\n",
    "            return 992680\n",
    "        elif years == 7.0:\n",
    "            return 1069509\n",
    "        elif years == 8.0:\n",
    "            return 1146337\n",
    "        elif years == 9.0:\n",
    "            return 1223166\n",
    "        elif years == 10.0:\n",
    "            return 1229255\n",
    "        elif years >= 11.0:\n",
    "            return 1352181\n",
    "        else:\n",
    "            return 0\n",
    "    elif target_salary_year == '2010-11':\n",
    "        if years == 1.0:\n",
    "            return 473604  \n",
    "        elif years == 2.0:\n",
    "            return 762195\n",
    "        elif years == 3.0:\n",
    "            return 854389\n",
    "        elif years == 4.0:\n",
    "            return 885120\n",
    "        elif years == 5.0:\n",
    "            return 915852\n",
    "        elif years == 6.0:\n",
    "            return 992680\n",
    "        elif years == 7.0:\n",
    "            return 1069509\n",
    "        elif years == 8.0:\n",
    "            return 1146337\n",
    "        elif years == 9.0:\n",
    "            return 1223166\n",
    "        elif years == 10.0:\n",
    "            return 1229255\n",
    "        elif years >= 11.0:\n",
    "            return 1352181\n",
    "        else:\n",
    "            return 0\n",
    "    elif target_salary_year == '2009-10':\n",
    "        if years == 1.0:\n",
    "            return 457588  \n",
    "        elif years == 2.0:\n",
    "            return 736420\n",
    "        elif years == 3.0:\n",
    "            return 825497\n",
    "        elif years == 4.0:\n",
    "            return 855189\n",
    "        elif years == 5.0:\n",
    "            return 884881\n",
    "        elif years == 6.0:\n",
    "            return 959111\n",
    "        elif years == 7.0:\n",
    "            return 1033342\n",
    "        elif years == 8.0:\n",
    "            return 1107572\n",
    "        elif years == 9.0:\n",
    "            return 1181803\n",
    "        elif years == 10.0:\n",
    "            return 1187686\n",
    "        elif years >= 11.0:\n",
    "            return 1306455\n",
    "        else:\n",
    "            return 0"
   ]
  },
  {
   "cell_type": "code",
   "execution_count": 148,
   "metadata": {},
   "outputs": [],
   "source": [
    "# Setting up a function that calculates the maximum salary that a player can receive based on what year it is and how\n",
    "# long the player has been in the league\n",
    "\n",
    "def maximum(years, target_salary_year):\n",
    "    if target_salary_year == '2018-19':\n",
    "        if years >= 1 and years < 7:\n",
    "            return 25467250\n",
    "        elif years >= 7 and years < 11:\n",
    "            return 30560700\n",
    "        else:\n",
    "            return 35654150\n",
    "    if target_salary_year == '2017-18':\n",
    "        if years >= 1 and years < 7:\n",
    "            return 24773250\n",
    "        elif years >= 7 and years < 11:\n",
    "            return 29727900\n",
    "        else:\n",
    "            return 34682550\n",
    "    if target_salary_year == '2016-17':\n",
    "        if years >= 1 and years < 7:\n",
    "            return 22116750\n",
    "        elif years >= 7 and years < 11:\n",
    "            return 26540100\n",
    "        else:\n",
    "            return 30963450\n",
    "    if target_salary_year == '2015-16':\n",
    "        if years >= 1 and years < 7:\n",
    "            return 16407500\n",
    "        elif years >= 7 and years < 11:\n",
    "            return 19689000\n",
    "        else:\n",
    "            return 22970500\n",
    "    if target_salary_year == '2014-15':\n",
    "        if years >= 1 and years < 7:\n",
    "            return 14746000\n",
    "        elif years >= 7 and years < 11:\n",
    "            return 17695200\n",
    "        else:\n",
    "            return 20644400\n",
    "    if target_salary_year == '2013-14':\n",
    "        if years >= 1 and years < 7:\n",
    "            return 13701250\n",
    "        elif years >= 7 and years < 11:\n",
    "            return 16441500\n",
    "        else:\n",
    "            return 19181750\n",
    "    if target_salary_year == '2012-13':\n",
    "        if years >= 1 and years < 7:\n",
    "            return 13668750\n",
    "        elif years >= 7 and years < 11:\n",
    "            return 16402500\n",
    "        else:\n",
    "            return 19136250\n",
    "    if target_salary_year == '2011-12':\n",
    "        if years >= 1 and years < 7:\n",
    "            return 12922194\n",
    "        elif years >= 7 and years < 11:\n",
    "            return 15506632\n",
    "        else:\n",
    "            return 18091071\n",
    "    if target_salary_year == '2010-11':\n",
    "        if years >= 1 and years < 7:\n",
    "            return 13603750\n",
    "        elif years >= 7 and years < 11:\n",
    "            return 16324500\n",
    "        else:\n",
    "            return 19045250\n",
    "    if target_salary_year == '2009-10':\n",
    "        if years >= 1 and years < 7:\n",
    "            return 13520500\n",
    "        elif years >= 7 and years < 11:\n",
    "            return 16224600\n",
    "        else:\n",
    "            return 18928700"
   ]
  },
  {
   "cell_type": "code",
   "execution_count": 149,
   "metadata": {},
   "outputs": [],
   "source": [
    "# Setting up blank lists to calculate minimums and maximums\n",
    "\n",
    "Min2018 = []\n",
    "Min2017 = []\n",
    "Min2016 = []\n",
    "Min2015 = []\n",
    "Min2014 = []\n",
    "Min2013 = []\n",
    "Min2012 = []\n",
    "Min2011 = []\n",
    "Min2010 = []\n",
    "Min2009 = []\n",
    "Min2008 = []\n",
    "\n",
    "Max2018 = []\n",
    "Max2017 = []\n",
    "Max2016 = []\n",
    "Max2015 = []\n",
    "Max2014 = []\n",
    "Max2013 = []\n",
    "Max2012 = []\n",
    "Max2011 = []\n",
    "Max2010 = []\n",
    "Max2009 = []\n",
    "Max2008 = []"
   ]
  },
  {
   "cell_type": "code",
   "execution_count": 44,
   "metadata": {},
   "outputs": [],
   "source": [
    "# Creating a function that appends the minimum salary for each player to the dataframe\n",
    "\n",
    "def append_minimum(df, list, year):\n",
    "    for i in df['Years In League']:\n",
    "        list.append(minimum(i, year))\n",
    "    df['Minimum Salary'] = list\n",
    "    \n",
    "append_minimum(hist1, Min2017, '2017-18')\n",
    "append_minimum(hist2, Min2016, '2016-17')\n",
    "append_minimum(hist3, Min2015, '2015-16')\n",
    "append_minimum(hist4, Min2014, '2014-15')\n",
    "append_minimum(hist5, Min2013, '2013-14')\n",
    "append_minimum(hist6, Min2012, '2012-13')\n",
    "append_minimum(hist7, Min2011, '2011-12')\n",
    "append_minimum(hist8, Min2010, '2010-11')\n",
    "append_minimum(hist9, Min2009, '2009-10')\n",
    "\n",
    "append_minimum(target_hist, Min2018, '2018-19')"
   ]
  },
  {
   "cell_type": "code",
   "execution_count": 150,
   "metadata": {},
   "outputs": [],
   "source": [
    "# Creating a function that appends the maximum salary for each player to the dataframe\n",
    "\n",
    "def append_maximum(df, list, year):\n",
    "    for i in df['Years In League']:\n",
    "        list.append(maximum(i, year))\n",
    "    df['Maximum Salary'] = list\n",
    "\n",
    "append_maximum(hist1, Max2017, '2017-18')\n",
    "append_maximum(hist2, Max2016, '2016-17')\n",
    "append_maximum(hist3, Max2015, '2015-16')\n",
    "append_maximum(hist4, Max2014, '2014-15')\n",
    "append_maximum(hist5, Max2013, '2013-14')\n",
    "append_maximum(hist6, Max2012, '2012-13')\n",
    "append_maximum(hist7, Max2011, '2011-12')\n",
    "append_maximum(hist8, Max2010, '2010-11')\n",
    "append_maximum(hist9, Max2009, '2009-10')\n",
    "\n",
    "append_maximum(target_hist, Max2018, '2018-19')"
   ]
  },
  {
   "cell_type": "markdown",
   "metadata": {},
   "source": [
    "# Concatenating Dataframes"
   ]
  },
  {
   "cell_type": "code",
   "execution_count": 151,
   "metadata": {},
   "outputs": [],
   "source": [
    "to_concat = [hist1, hist2, hist3, hist4, hist5, hist6, hist7, hist8, hist9]\n",
    "result = pd.concat(to_concat)"
   ]
  },
  {
   "cell_type": "code",
   "execution_count": 152,
   "metadata": {},
   "outputs": [],
   "source": [
    "# Making sure there are no duplicate rows\n",
    "\n",
    "result = result.drop_duplicates()\n",
    "target_hist = target_hist.drop_duplicates()"
   ]
  },
  {
   "cell_type": "code",
   "execution_count": 153,
   "metadata": {},
   "outputs": [],
   "source": [
    "# Renaming column\n",
    "\n",
    "result = result.rename(columns={0: 'Name With Year'})\n",
    "target_hist = target_hist.rename(columns={0: 'Name With Year'})"
   ]
  },
  {
   "cell_type": "code",
   "execution_count": 154,
   "metadata": {},
   "outputs": [],
   "source": [
    "# Creating name and year columns\n",
    "\n",
    "result['Name'] = [i[8:] for i in result['Name With Year']]\n",
    "result['Year'] = [i[:2] + i[5:7] for i in result['Name With Year']]\n",
    "\n",
    "target_hist['Name'] = [i[8:] for i in target_hist['Name With Year']]\n",
    "target_hist['Year'] = [i[:2] + i[5:7] for i in target_hist['Name With Year']]"
   ]
  },
  {
   "cell_type": "code",
   "execution_count": 155,
   "metadata": {},
   "outputs": [],
   "source": [
    "# Reseting index\n",
    "\n",
    "result = result.reset_index()\n",
    "target_hist = target_hist.reset_index()"
   ]
  },
  {
   "cell_type": "code",
   "execution_count": 156,
   "metadata": {},
   "outputs": [],
   "source": [
    "# Editing the 'Name With Year' column to change the format from \"2017-18 Name\"  to \"2018 Name\"\n",
    "\n",
    "for i in result['Name With Year']:\n",
    "    i = i[:2] + i[5:7] + i[7:]\n",
    "    \n",
    "for i in target_hist['Name With Year']:\n",
    "    i = i[:2] + i[5:7] + i[7:]"
   ]
  },
  {
   "cell_type": "code",
   "execution_count": 157,
   "metadata": {},
   "outputs": [],
   "source": [
    "# Creating a 'Join Name With Year' column for the join with the injury data\n",
    "\n",
    "result['Join Name With Year'] = result['Year'] + ' ' + result['Name']\n",
    "\n",
    "target_hist['Join Name With Year'] = target_hist['Year'] + ' ' + target_hist['Name']"
   ]
  },
  {
   "cell_type": "code",
   "execution_count": 158,
   "metadata": {},
   "outputs": [],
   "source": [
    "# Double checking again for duplicates\n",
    "\n",
    "target_hist = target_hist.drop_duplicates()"
   ]
  },
  {
   "cell_type": "code",
   "execution_count": 159,
   "metadata": {},
   "outputs": [],
   "source": [
    "# Setting up indices for the join\n",
    "\n",
    "result = result.set_index('Join Name With Year')\n",
    "target_hist = target_hist.set_index('Join Name With Year')"
   ]
  },
  {
   "cell_type": "code",
   "execution_count": 160,
   "metadata": {},
   "outputs": [],
   "source": [
    "# Joining the main dataframe with the injury dataframe\n",
    "\n",
    "result = result.join(all_tears, lsuffix='.x')\n",
    "target_hist = target_hist.join(all_tears, lsuffix='.x')"
   ]
  },
  {
   "cell_type": "code",
   "execution_count": 161,
   "metadata": {},
   "outputs": [],
   "source": [
    "# Saving as csv\n",
    "\n",
    "result.to_csv('new_historical_df.csv')\n",
    "target_hist.to_csv('2018_Free_Agents_For_Prediction.csv')"
   ]
  },
  {
   "cell_type": "markdown",
   "metadata": {},
   "source": [
    "# Correlation Scatterplots"
   ]
  },
  {
   "cell_type": "code",
   "execution_count": 76,
   "metadata": {},
   "outputs": [
    {
     "data": {
      "image/png": "[encoded data removed]",
      "text/plain": [
       "<matplotlib.figure.Figure at 0x11b490748>"
      ]
     },
     "metadata": {},
     "output_type": "display_data"
    }
   ],
   "source": [
    "plt.xlabel('Previous Year Points Per Game')\n",
    "plt.ylabel('Salary (In % of Team Salary Cap)')\n",
    "plt.title('Previous Year Points Per Game vs. Salary')\n",
    "plt.scatter(result['Previous Year Points Per Game'], result['Target Salary Percentage Cap'], c='c');"
   ]
  },
  {
   "cell_type": "code",
   "execution_count": 77,
   "metadata": {},
   "outputs": [
    {
     "data": {
      "image/png": "[encoded data removed]",
      "text/plain": [
       "<matplotlib.figure.Figure at 0x11b564898>"
      ]
     },
     "metadata": {},
     "output_type": "display_data"
    }
   ],
   "source": [
    "plt.xlabel('Age (In Years)')\n",
    "plt.ylabel('Salary (In % of Team Salary Cap)')\n",
    "plt.title('Age vs. Salary')\n",
    "plt.scatter(result['Age'], result['Target Salary Percentage Cap'], c='c');"
   ]
  },
  {
   "cell_type": "code",
   "execution_count": 162,
   "metadata": {},
   "outputs": [
    {
     "data": {
      "image/png": "[encoded data removed]",
      "text/plain": [
       "<matplotlib.figure.Figure at 0x11362a748>"
      ]
     },
     "metadata": {},
     "output_type": "display_data"
    }
   ],
   "source": [
    "plt.xlabel('Years In League (In Years)')\n",
    "plt.ylabel('Salary (In % of Team Salary Cap)')\n",
    "plt.title('Years In League vs. Salary')\n",
    "plt.scatter(result['Years In League'], result['Target Salary Percentage Cap'], c='c');"
   ]
  },
  {
   "cell_type": "code",
   "execution_count": 82,
   "metadata": {},
   "outputs": [
    {
     "data": {
      "image/png": "[encoded data removed]",
      "text/plain": [
       "<matplotlib.figure.Figure at 0x11b538f60>"
      ]
     },
     "metadata": {},
     "output_type": "display_data"
    }
   ],
   "source": [
    "plt.xlabel('Previous Year Total Rebounds Per Game')\n",
    "plt.ylabel('Salary (In % of Team Salary Cap)')\n",
    "plt.title('Previous Year Total Rebounds Per Game vs. Salary')\n",
    "plt.scatter(result['Previous Year Total Rebounds Per Game'], result['Target Salary Percentage Cap'], c='c');"
   ]
  },
  {
   "cell_type": "code",
   "execution_count": 163,
   "metadata": {},
   "outputs": [
    {
     "data": {
      "image/png": "[encoded data removed]",
      "text/plain": [
       "<matplotlib.figure.Figure at 0x1136ba518>"
      ]
     },
     "metadata": {},
     "output_type": "display_data"
    }
   ],
   "source": [
    "plt.xlabel('Previous Year Steals per Game')\n",
    "plt.ylabel('Salary (In % of Team Salary Cap)')\n",
    "plt.title('Previous Year Steals Per Game vs. Salary')\n",
    "plt.scatter(result['Previous Year Steals Per Game'], result['Target Salary Percentage Cap'], c='c');"
   ]
  },
  {
   "cell_type": "code",
   "execution_count": 165,
   "metadata": {},
   "outputs": [
    {
     "data": {
      "text/plain": [
       "<matplotlib.collections.PathCollection at 0x113996e80>"
      ]
     },
     "execution_count": 165,
     "metadata": {},
     "output_type": "execute_result"
    },
    {
     "data": {
      "image/png": "[encoded data removed]",
      "text/plain": [
       "<matplotlib.figure.Figure at 0x11b56d8d0>"
      ]
     },
     "metadata": {},
     "output_type": "display_data"
    }
   ],
   "source": [
    "plt.xlabel('Previous Year Assists Per Game')\n",
    "plt.ylabel('Salary (In % of Team Salary Cap)')\n",
    "plt.title('Previous Year Assists Per Game vs. Salary')\n",
    "plt.scatter(result['Previous Year Assists Per Game'], result['Target Salary Percentage Cap'], c='c')"
   ]
  },
  {
   "cell_type": "code",
   "execution_count": 166,
   "metadata": {},
   "outputs": [
    {
     "data": {
      "image/png": "[encoded data removed]",
      "text/plain": [
       "<matplotlib.figure.Figure at 0x11992f908>"
      ]
     },
     "metadata": {},
     "output_type": "display_data"
    }
   ],
   "source": [
    "plt.xlabel('Previous Year Blocks Per Game')\n",
    "plt.ylabel('Salary (In % of Team Salary Cap)')\n",
    "plt.title('Previous Year Blocks Per Game vs. Salary')\n",
    "plt.scatter(result['Previous Year Blocks Per Game'], result['Target Salary Percentage Cap'], c='c');"
   ]
  },
  {
   "cell_type": "code",
   "execution_count": 84,
   "metadata": {},
   "outputs": [
    {
     "data": {
      "image/png": "[encoded data removed]",
      "text/plain": [
       "<matplotlib.figure.Figure at 0x11b815898>"
      ]
     },
     "metadata": {},
     "output_type": "display_data"
    }
   ],
   "source": [
    "plt.xlabel('Previous Year Minutes Per Game')\n",
    "plt.ylabel('Salary (In % of Team Salary Cap)')\n",
    "plt.title('Previous Year Minutes Per Game vs. Salary')\n",
    "plt.scatter(result['Previous Year Minutes Per Game'], result['Target Salary Percentage Cap'], c='c');"
   ]
  },
  {
   "cell_type": "code",
   "execution_count": 95,
   "metadata": {},
   "outputs": [
    {
     "data": {
      "image/png": "[encoded data removed]",
      "text/plain": [
       "<matplotlib.figure.Figure at 0x11b8c9128>"
      ]
     },
     "metadata": {},
     "output_type": "display_data"
    }
   ],
   "source": [
    "plt.xlabel('Previous Year Player Efficiency Rating')\n",
    "plt.ylabel('Salary (In % of Team Salary Cap)')\n",
    "plt.title('Previous Year Player Efficiency Rating vs. Salary')\n",
    "plt.scatter(result['Previous Year Player Efficiency Rating'], result['Target Salary Percentage Cap'], c='c');"
   ]
  },
  {
   "cell_type": "code",
   "execution_count": 83,
   "metadata": {},
   "outputs": [
    {
     "data": {
      "image/png": "[encoded data removed]",
      "text/plain": [
       "<matplotlib.figure.Figure at 0x11b540fd0>"
      ]
     },
     "metadata": {},
     "output_type": "display_data"
    }
   ],
   "source": [
    "plt.xlabel('Previous Year Games Played')\n",
    "plt.ylabel('Salary (In % of Team Salary Cap)')\n",
    "plt.title('Previous Year Games Played vs. Salary')\n",
    "plt.scatter(result['Previous Year Games Played'], result['Target Salary Percentage Cap'], c='c');"
   ]
  },
  {
   "cell_type": "code",
   "execution_count": null,
   "metadata": {},
   "outputs": [],
   "source": []
  }
 ],
 "metadata": {
  "kernelspec": {
   "display_name": "Python 3",
   "language": "python",
   "name": "python3"
  }
 },
 "nbformat": 4,
 "nbformat_minor": 2
}
